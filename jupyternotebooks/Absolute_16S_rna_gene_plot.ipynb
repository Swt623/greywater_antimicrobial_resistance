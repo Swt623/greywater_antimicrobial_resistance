{
 "cells": [
  {
   "cell_type": "code",
   "execution_count": 1,
   "metadata": {},
   "outputs": [],
   "source": [
    "import pandas as pd\n",
    "import seaborn as sns\n",
    "import os\n",
    "import matplotlib\n",
    "import matplotlib.pyplot as plt\n",
    "import pylab\n",
    "from glob import glob"
   ]
  },
  {
   "cell_type": "markdown",
   "metadata": {},
   "source": [
    "## qPCR results of 16S rRNA gene for raw and treated greywater (winter 2020)"
   ]
  },
  {
   "cell_type": "code",
   "execution_count": 2,
   "metadata": {},
   "outputs": [
    {
     "data": {
      "text/html": [
       "<div>\n",
       "<style scoped>\n",
       "    .dataframe tbody tr th:only-of-type {\n",
       "        vertical-align: middle;\n",
       "    }\n",
       "\n",
       "    .dataframe tbody tr th {\n",
       "        vertical-align: top;\n",
       "    }\n",
       "\n",
       "    .dataframe thead th {\n",
       "        text-align: right;\n",
       "    }\n",
       "</style>\n",
       "<table border=\"1\" class=\"dataframe\">\n",
       "  <thead>\n",
       "    <tr style=\"text-align: right;\">\n",
       "      <th></th>\n",
       "      <th>sample</th>\n",
       "      <th>16S/L</th>\n",
       "      <th>Treatment</th>\n",
       "      <th>House</th>\n",
       "      <th>Replicate</th>\n",
       "    </tr>\n",
       "  </thead>\n",
       "  <tbody>\n",
       "    <tr>\n",
       "      <th>0</th>\n",
       "      <td>Fam1 R</td>\n",
       "      <td>497000000.0</td>\n",
       "      <td>Raw</td>\n",
       "      <td>House 1</td>\n",
       "      <td>1</td>\n",
       "    </tr>\n",
       "    <tr>\n",
       "      <th>1</th>\n",
       "      <td>Fam1 R</td>\n",
       "      <td>690000000.0</td>\n",
       "      <td>Raw</td>\n",
       "      <td>House 1</td>\n",
       "      <td>2</td>\n",
       "    </tr>\n",
       "    <tr>\n",
       "      <th>2</th>\n",
       "      <td>Fam1 R</td>\n",
       "      <td>713000000.0</td>\n",
       "      <td>Raw</td>\n",
       "      <td>House 1</td>\n",
       "      <td>3</td>\n",
       "    </tr>\n",
       "  </tbody>\n",
       "</table>\n",
       "</div>"
      ],
      "text/plain": [
       "   sample        16S/L Treatment    House  Replicate\n",
       "0  Fam1 R  497000000.0       Raw  House 1          1\n",
       "1  Fam1 R  690000000.0       Raw  House 1          2\n",
       "2  Fam1 R  713000000.0       Raw  House 1          3"
      ]
     },
     "execution_count": 2,
     "metadata": {},
     "output_type": "execute_result"
    }
   ],
   "source": [
    "absol_16S_datafile = \"absolute_gene_litre_winter2020.csv\"\n",
    "absol_16S_df = pd.read_csv(absol_16S_datafile, delimiter = \",\")\n",
    "absol_16S_df.head(3)"
   ]
  },
  {
   "cell_type": "code",
   "execution_count": 10,
   "metadata": {},
   "outputs": [
    {
     "data": {
      "image/png": "[encoded data removed]",
      "text/plain": [
       "<Figure size 432x288 with 1 Axes>"
      ]
     },
     "metadata": {
      "needs_background": "light"
     },
     "output_type": "display_data"
    }
   ],
   "source": [
    "g = sns.barplot(\n",
    "    data=absol_16S_df,\n",
    "    x='House',\n",
    "    y='16S/L',\n",
    "    hue='Treatment',\n",
    "    ci=\"sd\" # default error bars in the barplot are 95% confidence intervals; ci=\"sd\" standard deviation of the observations\n",
    ")\n",
    "g.set_yscale(\"log\")\n",
    "g.set_ylim(10e0,10e12)\n",
    "g.set_ylabel(\"16S rRNA gene copies/L\")\n",
    "g.set_xlabel('')\n",
    "#g.set_title(\"\")\n",
    "plt.savefig('TotalBiomass_GW_Winter2020_2023-2-8.pdf', bbox_inches='tight')"
   ]
  }
 ],
 "metadata": {
  "kernelspec": {
   "display_name": "Python 3",
   "language": "python",
   "name": "python3"
  },
  "language_info": {
   "codemirror_mode": {
    "name": "ipython",
    "version": 3
   },
   "file_extension": ".py",
   "mimetype": "text/x-python",
   "name": "python",
   "nbconvert_exporter": "python",
   "pygments_lexer": "ipython3",
   "version": "3.7.11"
  }
 },
 "nbformat": 4,
 "nbformat_minor": 4
}
