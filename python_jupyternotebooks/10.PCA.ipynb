{
 "cells": [
  {
   "cell_type": "code",
   "execution_count": 30,
   "metadata": {},
   "outputs": [],
   "source": [
    "# Import packages\n",
    "import numpy as np\n",
    "import pandas as pd\n",
    "import seaborn as sns\n",
    "import os\n",
    "import matplotlib.pyplot as plt\n",
    "from sklearn.decomposition import PCA\n",
    "from sklearn.preprocessing import StandardScaler\n",
    "\n",
    "# Set up with a higher resolution screen (useful on Mac)\n",
    "%config InlineBackend.figure_format = 'retina'\n",
    "\n",
    "# Set directory\n",
    "os.chdir('Greywater_Metagemonics/Greywater_Data')"
   ]
  },
  {
   "cell_type": "code",
   "execution_count": 29,
   "metadata": {},
   "outputs": [
    {
     "data": {
      "text/plain": [
       "'0.22.1'"
      ]
     },
     "execution_count": 29,
     "metadata": {},
     "output_type": "execute_result"
    }
   ],
   "source": [
    "import sklearn\n",
    "sklearn.__version__"
   ]
  },
  {
   "cell_type": "code",
   "execution_count": 14,
   "metadata": {},
   "outputs": [
    {
     "name": "stdout",
     "output_type": "stream",
     "text": [
      "Collecting numpy==1.21.5\n",
      "  Using cached numpy-1.21.5-cp37-cp37m-macosx_10_9_x86_64.whl (16.9 MB)\n",
      "Installing collected packages: numpy\n",
      "  Attempting uninstall: numpy\n",
      "    Found existing installation: numpy 1.16.5\n",
      "    Uninstalling numpy-1.16.5:\n",
      "      Successfully uninstalled numpy-1.16.5\n",
      "Successfully installed numpy-1.21.5\n"
     ]
    }
   ],
   "source": [
    "!pip install numpy==1.21.5"
   ]
  },
  {
   "cell_type": "code",
   "execution_count": 6,
   "metadata": {},
   "outputs": [
    {
     "name": "stdout",
     "output_type": "stream",
     "text": [
      "1.21.5\n"
     ]
    }
   ],
   "source": [
    "print(np.__version__)"
   ]
  },
  {
   "cell_type": "code",
   "execution_count": 15,
   "metadata": {},
   "outputs": [
    {
     "name": "stdout",
     "output_type": "stream",
     "text": [
      "Collecting pandas==1.0.5\n",
      "  Downloading pandas-1.0.5-cp37-cp37m-macosx_10_9_x86_64.whl (10.0 MB)\n",
      "\u001b[K     |████████████████████████████████| 10.0 MB 10.0 MB/s eta 0:00:01\n",
      "\u001b[?25hRequirement already satisfied: numpy>=1.13.3 in /Users/shuaishuai/opt/anaconda3/lib/python3.7/site-packages (from pandas==1.0.5) (1.21.5)\n",
      "Requirement already satisfied: pytz>=2017.2 in /Users/shuaishuai/opt/anaconda3/lib/python3.7/site-packages (from pandas==1.0.5) (2019.3)\n",
      "Requirement already satisfied: python-dateutil>=2.6.1 in /Users/shuaishuai/opt/anaconda3/lib/python3.7/site-packages (from pandas==1.0.5) (2.8.1)\n",
      "Requirement already satisfied: six>=1.5 in /Users/shuaishuai/opt/anaconda3/lib/python3.7/site-packages (from python-dateutil>=2.6.1->pandas==1.0.5) (1.14.0)\n",
      "Installing collected packages: pandas\n",
      "  Attempting uninstall: pandas\n",
      "    Found existing installation: pandas 1.0.1\n",
      "    Uninstalling pandas-1.0.1:\n",
      "      Successfully uninstalled pandas-1.0.1\n",
      "Successfully installed pandas-1.0.5\n"
     ]
    }
   ],
   "source": [
    "!pip install pandas==1.0.5"
   ]
  },
  {
   "cell_type": "code",
   "execution_count": 13,
   "metadata": {},
   "outputs": [
    {
     "name": "stdout",
     "output_type": "stream",
     "text": [
      "1.0.1\n"
     ]
    }
   ],
   "source": [
    "print(pd.__version__)"
   ]
  },
  {
   "cell_type": "markdown",
   "metadata": {},
   "source": [
    "## Perform PCA"
   ]
  },
  {
   "cell_type": "code",
   "execution_count": 66,
   "metadata": {},
   "outputs": [
    {
     "name": "stdout",
     "output_type": "stream",
     "text": [
      "['house_1', 'house_1', 'house_2', 'house_2', 'house_3', 'house_3', 'house_4', 'house_4', 'house_5', 'house_5']\n",
      "['raw', 'treat', 'raw', 'treat', 'raw', 'treat', 'raw', 'treat', 'raw', 'treat']\n"
     ]
    },
    {
     "data": {
      "text/html": [
       "<div>\n",
       "<style scoped>\n",
       "    .dataframe tbody tr th:only-of-type {\n",
       "        vertical-align: middle;\n",
       "    }\n",
       "\n",
       "    .dataframe tbody tr th {\n",
       "        vertical-align: top;\n",
       "    }\n",
       "\n",
       "    .dataframe thead th {\n",
       "        text-align: right;\n",
       "    }\n",
       "</style>\n",
       "<table border=\"1\" class=\"dataframe\">\n",
       "  <thead>\n",
       "    <tr style=\"text-align: right;\">\n",
       "      <th></th>\n",
       "      <th>principal component 1</th>\n",
       "      <th>principal component 2</th>\n",
       "      <th>sample</th>\n",
       "      <th>House</th>\n",
       "      <th>Treatment</th>\n",
       "    </tr>\n",
       "  </thead>\n",
       "  <tbody>\n",
       "    <tr>\n",
       "      <th>0</th>\n",
       "      <td>12.017155</td>\n",
       "      <td>5.784112</td>\n",
       "      <td>house_1_raw</td>\n",
       "      <td>house_1</td>\n",
       "      <td>raw</td>\n",
       "    </tr>\n",
       "    <tr>\n",
       "      <th>1</th>\n",
       "      <td>-0.178212</td>\n",
       "      <td>-2.011503</td>\n",
       "      <td>house_1_treat</td>\n",
       "      <td>house_1</td>\n",
       "      <td>treat</td>\n",
       "    </tr>\n",
       "    <tr>\n",
       "      <th>2</th>\n",
       "      <td>-1.416824</td>\n",
       "      <td>-1.126648</td>\n",
       "      <td>house_2_raw</td>\n",
       "      <td>house_2</td>\n",
       "      <td>raw</td>\n",
       "    </tr>\n",
       "    <tr>\n",
       "      <th>3</th>\n",
       "      <td>-0.398936</td>\n",
       "      <td>-1.820790</td>\n",
       "      <td>house_2_treat</td>\n",
       "      <td>house_2</td>\n",
       "      <td>treat</td>\n",
       "    </tr>\n",
       "    <tr>\n",
       "      <th>4</th>\n",
       "      <td>-0.324353</td>\n",
       "      <td>-2.629107</td>\n",
       "      <td>house_3_raw</td>\n",
       "      <td>house_3</td>\n",
       "      <td>raw</td>\n",
       "    </tr>\n",
       "    <tr>\n",
       "      <th>5</th>\n",
       "      <td>-0.461790</td>\n",
       "      <td>-1.838343</td>\n",
       "      <td>house_3_treat</td>\n",
       "      <td>house_3</td>\n",
       "      <td>treat</td>\n",
       "    </tr>\n",
       "    <tr>\n",
       "      <th>6</th>\n",
       "      <td>-0.755491</td>\n",
       "      <td>-3.190733</td>\n",
       "      <td>house_4_raw</td>\n",
       "      <td>house_4</td>\n",
       "      <td>raw</td>\n",
       "    </tr>\n",
       "    <tr>\n",
       "      <th>7</th>\n",
       "      <td>-0.393739</td>\n",
       "      <td>-2.139378</td>\n",
       "      <td>house_4_treat</td>\n",
       "      <td>house_4</td>\n",
       "      <td>treat</td>\n",
       "    </tr>\n",
       "    <tr>\n",
       "      <th>8</th>\n",
       "      <td>-7.416313</td>\n",
       "      <td>10.544302</td>\n",
       "      <td>house_5_raw</td>\n",
       "      <td>house_5</td>\n",
       "      <td>raw</td>\n",
       "    </tr>\n",
       "    <tr>\n",
       "      <th>9</th>\n",
       "      <td>-0.671498</td>\n",
       "      <td>-1.571913</td>\n",
       "      <td>house_5_treat</td>\n",
       "      <td>house_5</td>\n",
       "      <td>treat</td>\n",
       "    </tr>\n",
       "  </tbody>\n",
       "</table>\n",
       "</div>"
      ],
      "text/plain": [
       "   principal component 1  principal component 2         sample    House  \\\n",
       "0              12.017155               5.784112    house_1_raw  house_1   \n",
       "1              -0.178212              -2.011503  house_1_treat  house_1   \n",
       "2              -1.416824              -1.126648    house_2_raw  house_2   \n",
       "3              -0.398936              -1.820790  house_2_treat  house_2   \n",
       "4              -0.324353              -2.629107    house_3_raw  house_3   \n",
       "5              -0.461790              -1.838343  house_3_treat  house_3   \n",
       "6              -0.755491              -3.190733    house_4_raw  house_4   \n",
       "7              -0.393739              -2.139378  house_4_treat  house_4   \n",
       "8              -7.416313              10.544302    house_5_raw  house_5   \n",
       "9              -0.671498              -1.571913  house_5_treat  house_5   \n",
       "\n",
       "  Treatment  \n",
       "0       raw  \n",
       "1     treat  \n",
       "2       raw  \n",
       "3     treat  \n",
       "4       raw  \n",
       "5     treat  \n",
       "6       raw  \n",
       "7     treat  \n",
       "8       raw  \n",
       "9     treat  "
      ]
     },
     "execution_count": 66,
     "metadata": {},
     "output_type": "execute_result"
    }
   ],
   "source": [
    "#data = pd.read_csv('taxonomy/metaxa2_genera_relab_filtered01.csv', delimiter=',', index_col=0)\n",
    "data = pd.read_csv('ARGs/RGI/ARO_rpkm_summary_strict.csv', index_col=0)\n",
    "#data = pd.read_csv('ARGs/contig-RGI/metaspades/ARO_count_summary_strict.csv', index_col = 0).drop(columns=['AMR Gene Family', 'Drug Class', 'Resistance Mechanism'])\n",
    "# if data has sample ID as column names, need to transpose\n",
    "\n",
    "#For RPKM_house_x_xxx column name:\n",
    "#rename = {}\n",
    "#for name in list(data.columns):\n",
    "#    new_name = name.strip(\"RPKM_\")\n",
    "#    rename[name] = new_name\n",
    "#data = data.rename(columns=rename)\n",
    "\n",
    "data = data.transpose()\n",
    "\n",
    "# transform data to unit scale (mean=0 and variance=1)\n",
    "features = list(data.columns)\n",
    "data_value = data.loc[:, features].values\n",
    "data_value = StandardScaler().fit_transform(data_value)\n",
    "\n",
    "# Perform PCA 2D\n",
    "pca = PCA(n_components=2)\n",
    "data_pca = pca.fit_transform(data_value)\n",
    "pca_df = pd.DataFrame(data = data_pca, \n",
    "         columns = ['principal component 1', 'principal component 2'])\n",
    "\n",
    "# get sample name list\n",
    "sample = list(data.index)\n",
    "house = []\n",
    "treatment = []\n",
    "#ID = []\n",
    "for s in sample: \n",
    "    s_cut = s.split(\"_\")\n",
    "    house.append(\"_\".join(s_cut[0:2]))\n",
    "    treatment.append(s_cut[2])\n",
    "    #ID.append(\"_\".join(s_cut[1:]))\n",
    "print(house)\n",
    "print(treatment)\n",
    "\n",
    "#pca_df[\"sample\"] = ID\n",
    "pca_df[\"sample\"] = sample\n",
    "pca_df[\"House\"] = house\n",
    "pca_df[\"Treatment\"] = treatment\n",
    "pca_df"
   ]
  },
  {
   "cell_type": "code",
   "execution_count": 67,
   "metadata": {},
   "outputs": [
    {
     "data": {
      "text/plain": [
       "array([0.2183948 , 0.19439714])"
      ]
     },
     "execution_count": 67,
     "metadata": {},
     "output_type": "execute_result"
    }
   ],
   "source": [
    "pca.explained_variance_ratio_"
   ]
  },
  {
   "cell_type": "code",
   "execution_count": 68,
   "metadata": {},
   "outputs": [
    {
     "data": {
      "image/png": "[encoded data removed]",
      "text/plain": [
       "<Figure size 288x216 with 1 Axes>"
      ]
     },
     "metadata": {
      "image/png": {
       "height": 214,
       "width": 392
      },
      "needs_background": "light"
     },
     "output_type": "display_data"
    }
   ],
   "source": [
    "plt.rcParams['figure.figsize'] = [4, 3]\n",
    "plt.rc('xtick', labelsize=12)\n",
    "plt.rc('ytick', labelsize=12)\n",
    "ax4 = sns.scatterplot(x=\"principal component 1\", y=\"principal component 2\", \n",
    "                data=pca_df, hue = \"Treatment\", style = \"House\", s = 50, ec=['tab:blue','tab:orange'],fc='none')\n",
    "                      #markers=['1','2','3','+','x'])\n",
    "ax4.legend(bbox_to_anchor=(1.02, 1.05), fontsize=12)\n",
    "plt.xlabel(\"PC1: 21.8% variance\", fontsize=12)\n",
    "plt.ylabel(\"PC2: 19.4% variance\", fontsize=12)\n",
    "#plt.title(\"Genus level taxonomy (metaxa2)\")\n",
    "#plt.title(\"ARG identified from assemblies\")\n",
    "\n",
    "plt.savefig('ARGs/figures/PCA_RGImain_strict_hollow.pdf',bbox_inches='tight')\n",
    "#plt.savefig('taxonomy/figures/metaxa2_genus_PCA_hollow.pdf', bbox_inches='tight')"
   ]
  }
 ],
 "metadata": {
  "kernelspec": {
   "display_name": "Python 3",
   "language": "python",
   "name": "python3"
  },
  "language_info": {
   "codemirror_mode": {
    "name": "ipython",
    "version": 3
   },
   "file_extension": ".py",
   "mimetype": "text/x-python",
   "name": "python",
   "nbconvert_exporter": "python",
   "pygments_lexer": "ipython3",
   "version": "3.7.11"
  }
 },
 "nbformat": 4,
 "nbformat_minor": 4
}
