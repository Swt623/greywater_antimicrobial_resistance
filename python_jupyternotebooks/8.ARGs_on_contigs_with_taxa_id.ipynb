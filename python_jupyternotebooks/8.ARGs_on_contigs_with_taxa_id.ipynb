{
 "cells": [
  {
   "cell_type": "markdown",
   "metadata": {},
   "source": [
    "## In this notebook: \n",
    "\n",
    "## Contig assigned to which taxon? What AMR genes are detected on this contig?"
   ]
  },
  {
   "cell_type": "code",
   "execution_count": 7,
   "metadata": {},
   "outputs": [],
   "source": [
    "import pandas as pd\n",
    "import seaborn as sns\n",
    "import os\n",
    "import matplotlib.pyplot as plt\n",
    "import pylab\n",
    "from glob import glob"
   ]
  },
  {
   "cell_type": "code",
   "execution_count": 6,
   "metadata": {},
   "outputs": [],
   "source": [
    "# set directory\n",
    "os.chdir('Greywater_Metagemonics/Greywater_Data/')"
   ]
  },
  {
   "cell_type": "code",
   "execution_count": 9,
   "metadata": {},
   "outputs": [],
   "source": [
    "# sample names\n",
    "sample_id = [\"house_1_raw\", \"house_1_treat\",\n",
    "             \"house_2_raw\", \"house_2_treat\",\n",
    "             \"house_3_raw\", \"house_3_treat\",\n",
    "             \"house_4_raw\", \"house_4_treat\",\n",
    "             \"house_5_raw\", \"house_5_treat\" #, \n",
    "            #\"raw_greywater_merged\"\n",
    "            ]"
   ]
  },
  {
   "cell_type": "markdown",
   "metadata": {},
   "source": [
    "## RGI main: detect AMR genes on contigs\n",
    "\n",
    "### Cleaning and viewing output from RGI main (using contigs or scaffolds)\n",
    "\n",
    "### When using metaspades output, scaffolds.fasta is the RGI main input file"
   ]
  },
  {
   "cell_type": "code",
   "execution_count": 4,
   "metadata": {},
   "outputs": [
    {
     "name": "stdout",
     "output_type": "stream",
     "text": [
      "Processing sample house_1_raw.\n",
      "388030 scaffolds in sample house_1_raw.\n",
      "There are 494 AMR gene detected.\n",
      "AMR genes found in 484 contigs.\n",
      "54 contigs contain AMR genes.\n",
      "57 co-occurrence of taxa and ARGs. \n",
      "\n",
      "Processing sample house_1_treat.\n",
      "4189397 scaffolds in sample house_1_treat.\n",
      "There are 4446 AMR gene detected.\n",
      "AMR genes found in 4345 contigs.\n",
      "47 contigs contain AMR genes.\n",
      "47 co-occurrence of taxa and ARGs. \n",
      "\n",
      "Processing sample house_2_raw.\n",
      "2405591 scaffolds in sample house_2_raw.\n",
      "There are 2447 AMR gene detected.\n",
      "AMR genes found in 2421 contigs.\n",
      "161 contigs contain AMR genes.\n",
      "162 co-occurrence of taxa and ARGs. \n",
      "\n",
      "Processing sample house_2_treat.\n",
      "3886670 scaffolds in sample house_2_treat.\n",
      "There are 3998 AMR gene detected.\n",
      "AMR genes found in 3967 contigs.\n",
      "86 contigs contain AMR genes.\n",
      "90 co-occurrence of taxa and ARGs. \n",
      "\n",
      "Processing sample house_3_raw.\n",
      "509642 scaffolds in sample house_3_raw.\n",
      "There are 765 AMR gene detected.\n",
      "AMR genes found in 759 contigs.\n",
      "97 contigs contain AMR genes.\n",
      "103 co-occurrence of taxa and ARGs. \n",
      "\n",
      "Processing sample house_3_treat.\n",
      "2319979 scaffolds in sample house_3_treat.\n",
      "There are 2464 AMR gene detected.\n",
      "AMR genes found in 2451 contigs.\n",
      "43 contigs contain AMR genes.\n",
      "44 co-occurrence of taxa and ARGs. \n",
      "\n",
      "Processing sample house_4_raw.\n",
      "975312 scaffolds in sample house_4_raw.\n",
      "There are 1016 AMR gene detected.\n",
      "AMR genes found in 1005 contigs.\n",
      "84 contigs contain AMR genes.\n",
      "87 co-occurrence of taxa and ARGs. \n",
      "\n",
      "Processing sample house_4_treat.\n",
      "2303147 scaffolds in sample house_4_treat.\n",
      "There are 2229 AMR gene detected.\n",
      "AMR genes found in 2218 contigs.\n",
      "56 contigs contain AMR genes.\n",
      "61 co-occurrence of taxa and ARGs. \n",
      "\n",
      "Processing sample house_5_raw.\n",
      "255504 scaffolds in sample house_5_raw.\n",
      "There are 449 AMR gene detected.\n",
      "AMR genes found in 440 contigs.\n",
      "133 contigs contain AMR genes.\n",
      "141 co-occurrence of taxa and ARGs. \n",
      "\n",
      "Processing sample house_5_treat.\n",
      "2608600 scaffolds in sample house_5_treat.\n",
      "There are 2815 AMR gene detected.\n",
      "AMR genes found in 2790 contigs.\n",
      "30 contigs contain AMR genes.\n",
      "34 co-occurrence of taxa and ARGs. \n",
      "\n",
      "Processing sample raw_greywater_merged.\n",
      "3832341 scaffolds in sample raw_greywater_merged.\n",
      "There are 4197 AMR gene detected.\n",
      "AMR genes found in 4058 contigs.\n",
      "284 contigs contain AMR genes.\n",
      "293 co-occurrence of taxa and ARGs. \n",
      "\n"
     ]
    }
   ],
   "source": [
    "# loop for all samples\n",
    "for sample in sample_id:\n",
    "    print(f\"Processing sample {sample}.\")\n",
    "    RGI_out = f\"ARGs/contig-RGI/metaspades/{sample}.txt\"\n",
    "    Blobology_out = f\"Assembly/blobology/{sample}_scaffolds.blobplot\" # all scaffolds, including unbinned\n",
    "    df1 = pd.read_csv(RGI_out, delimiter = \"\\t\", index_col = 0)\n",
    "    df2 = pd.read_csv(Blobology_out, delimiter = \"\\t\", index_col = 0)\n",
    "    print(f\"{df2.shape[0]} scaffolds in sample {sample}.\")\n",
    "    print(f\"There are {df1.shape[0]} AMR gene detected.\")\n",
    "    # get contig ID for RGI output file\n",
    "    contig_list = [\"_\".join(name.split(\"_\")[:-1]) for name in list(df1[\"Contig\"])]\n",
    "    print(f\"AMR genes found in {len(set(contig_list))} contigs.\")\n",
    "    \n",
    "    df1[\"Contig_ID\"] = contig_list\n",
    "    # filter out best identities < 95%\n",
    "    contig_ARG = df1.set_index(\"Contig_ID\")\n",
    "    contig_ARG = contig_ARG[contig_ARG[\"Best_Identities\"] >= 95.0]\n",
    "    contig_ARG = contig_ARG[contig_ARG[\"Best_Hit_Bitscore\"] >= 50]\n",
    "    \n",
    "    # get list of contigs in common\n",
    "    common_list = [contig for contig in list(df2.index) if contig in list(contig_ARG.index)]\n",
    "    print(f\"{len(common_list)} contigs contain AMR genes.\")\n",
    "    \n",
    "    contig_ARG = contig_ARG.loc[common_list, [\"Best_Hit_ARO\",\"Resistance Mechanism\", \"AMR Gene Family\", \"Drug Class\"]]\n",
    "    taxon_ARG = contig_ARG.assign(Species = df2.loc[contig_ARG.index, \"taxlevel_species\"], Bin = df2.loc[contig_ARG.index, \"bin\"])\n",
    "    taxon_ARG_species = taxon_ARG[taxon_ARG[\"Species\"] != \"Not annotated\"]\n",
    "    \n",
    "    # save to csv\n",
    "    taxon_ARG.to_csv(f\"Assembly/metaspades_cooccurrence/{sample}_scaffolds_AMR_95_cutoff.csv\", sep = \",\")\n",
    "    taxon_ARG_species.to_csv(f\"Assembly/metaspades_cooccurrence/{sample}_species_AMR_95_cutoff.csv\", sep = \",\")\n",
    "    print(f\"{taxon_ARG.shape[0]} co-occurrence of taxa and ARGs. \\n\")"
   ]
  },
  {
   "cell_type": "markdown",
   "metadata": {},
   "source": [
    "### Concat raw greywater samples and treated greywater samples output"
   ]
  },
  {
   "cell_type": "code",
   "execution_count": 18,
   "metadata": {},
   "outputs": [],
   "source": [
    "raw_sample_names = glob(\"Assembly/metaspades_cooccurrence/house_*_raw_species_AMR_95_cutoff.csv\")\n",
    "\n",
    "raw_sum = None\n",
    "\n",
    "for sample in raw_sample_names:\n",
    "    raw = pd.read_csv(sample, delimiter = \",\", index_col = 0)\n",
    "    if raw_sum is None:\n",
    "        raw_sum = raw\n",
    "    else:\n",
    "        raw_sum = pd.concat([raw_sum,raw])"
   ]
  },
  {
   "cell_type": "code",
   "execution_count": 19,
   "metadata": {},
   "outputs": [
    {
     "data": {
      "text/plain": [
       "(547, 6)"
      ]
     },
     "execution_count": 19,
     "metadata": {},
     "output_type": "execute_result"
    }
   ],
   "source": [
    "raw_sum.shape"
   ]
  },
  {
   "cell_type": "code",
   "execution_count": 20,
   "metadata": {},
   "outputs": [],
   "source": [
    "treat_sample_names = glob(\"Assembly/metaspades_cooccurrence/house_*_treat_species_AMR_95_cutoff.csv\")\n",
    "\n",
    "treat_sum = None\n",
    "\n",
    "for sample in treat_sample_names:\n",
    "    treat = pd.read_csv(sample, delimiter = \",\", index_col = 0)\n",
    "    if treat_sum is None:\n",
    "        treat_sum = treat\n",
    "    else:\n",
    "        treat_sum = pd.concat([treat_sum,treat])"
   ]
  },
  {
   "cell_type": "code",
   "execution_count": 21,
   "metadata": {},
   "outputs": [
    {
     "data": {
      "text/plain": [
       "(269, 6)"
      ]
     },
     "execution_count": 21,
     "metadata": {},
     "output_type": "execute_result"
    }
   ],
   "source": [
    "treat_sum.shape"
   ]
  },
  {
   "cell_type": "code",
   "execution_count": 22,
   "metadata": {},
   "outputs": [],
   "source": [
    "raw_sum.to_csv(\"Assembly/metaspades_cooccurrence/raw_sum_species_AMR_95_cutoff.csv\", sep = \",\")\n",
    "treat_sum.to_csv(\"Assembly/metaspades_cooccurrence/treat_sum_species_AMR_95_cutoff.csv\", sep = \",\")"
   ]
  },
  {
   "cell_type": "markdown",
   "metadata": {},
   "source": [
    "### Prepare txt files for venn diagram for unique ARGs"
   ]
  },
  {
   "cell_type": "code",
   "execution_count": 23,
   "metadata": {},
   "outputs": [
    {
     "name": "stdout",
     "output_type": "stream",
     "text": [
      "Processing sample house_1_raw.\n",
      "Processing sample house_1_treat.\n",
      "Processing sample house_2_raw.\n",
      "Processing sample house_2_treat.\n",
      "Processing sample house_3_raw.\n",
      "Processing sample house_3_treat.\n",
      "Processing sample house_4_raw.\n",
      "Processing sample house_4_treat.\n",
      "Processing sample house_5_raw.\n",
      "Processing sample house_5_treat.\n",
      "Processing sample raw_greywater_merged.\n"
     ]
    }
   ],
   "source": [
    "# For individual samples\n",
    "for sample in sample_id: # loop for all samples in sample_id\n",
    "    print(f\"Processing sample {sample}.\")\n",
    "# Assign ARG_df from RGI output file RGI_out\n",
    "    RGI_out = f\"Assembly/metaspades_cooccurrence/{sample}_scaffolds_AMR_95_cutoff.csv\"\n",
    "    ARG_df = pd.read_csv(RGI_out, delimiter = \",\", index_col =0)\n",
    "# Make list of unique ARO terms\n",
    "    ARG_list = list(ARG_df[\"Best_Hit_ARO\"].unique())\n",
    "# Write to a txt file\n",
    "    with open(f\"ARGs/contig-RGI/metaspades/{sample}_ARGs_95_50_cutoff.txt\", \"w\") as f:\n",
    "        for row in ARG_list:\n",
    "            f.write(row+\"\\n\")"
   ]
  },
  {
   "cell_type": "code",
   "execution_count": 24,
   "metadata": {},
   "outputs": [],
   "source": [
    "# For raw and treated samples sum\n",
    "raw_sum = None\n",
    "treated_sum = None\n",
    "for i in [0,2,4,6,8]: # loop for all raw samples in sample_id\n",
    "# Assign ARG_df from RGI output file RGI_out\n",
    "    #print(f\"{sample_id[i]}\")\n",
    "    RGI_out = f\"Assembly/metaspades_cooccurrence/{sample_id[i]}_scaffolds_AMR_95_cutoff.csv\"\n",
    "    ARG_df = pd.read_csv(RGI_out, delimiter = \",\", index_col =0)\n",
    "    raw_sum = pd.concat([raw_sum,ARG_df])\n",
    "# Make list of unique ARO terms\n",
    "ARG_list = list(raw_sum[\"Best_Hit_ARO\"].unique())\n",
    "# Write to a txt file\n",
    "with open(f\"ARGs/contig-RGI/metaspades/raw_sum_ARGs_95_50_cutoff.txt\", \"w\") as f:\n",
    "    for row in ARG_list:\n",
    "        f.write(row+\"\\n\")\n",
    "\n",
    "for i in [1,3,5,7,9]: # loop for all treated samples in sample_id\n",
    "# Assign ARG_df from RGI output file RGI_out\n",
    "    #print(f\"{sample_id[i]}\")\n",
    "    RGI_out = f\"Assembly/metaspades_cooccurrence/{sample_id[i]}_scaffolds_AMR_95_cutoff.csv\"\n",
    "    ARG_df = pd.read_csv(RGI_out, delimiter = \",\", index_col =0)\n",
    "    treated_sum = pd.concat([treated_sum,ARG_df])\n",
    "\n",
    "# Make list of unique ARO terms\n",
    "ARG_list = list(treated_sum[\"Best_Hit_ARO\"].unique())\n",
    "# Write to a txt file\n",
    "with open(f\"ARGs/contig-RGI/metaspades/treated_sum_ARGs_95_50_cutoff.txt\", \"w\") as f:\n",
    "    for row in ARG_list:\n",
    "        f.write(row+\"\\n\")"
   ]
  },
  {
   "cell_type": "markdown",
   "metadata": {},
   "source": [
    "### ARG genes counts by gene family/Resistance Mechanism/Drug Class and plot"
   ]
  },
  {
   "cell_type": "code",
   "execution_count": 9,
   "metadata": {},
   "outputs": [
    {
     "name": "stdout",
     "output_type": "stream",
     "text": [
      "Processing sample house_1_raw.\n",
      "Processing sample house_1_treat.\n",
      "Processing sample house_2_raw.\n",
      "Processing sample house_2_treat.\n",
      "Processing sample house_3_raw.\n",
      "Processing sample house_3_treat.\n",
      "Processing sample house_4_raw.\n",
      "Processing sample house_4_treat.\n",
      "Processing sample house_5_raw.\n",
      "Processing sample house_5_treat.\n",
      "Processing sample raw_greywater_merged.\n"
     ]
    }
   ],
   "source": [
    "DC_df = None\n",
    "GF_df = None\n",
    "RM_df = None\n",
    "\n",
    "for sample in sample_id: # loop for all samples in sample_id\n",
    "    print(f\"Processing sample {sample}.\")\n",
    "# Assign ARG_df from RGI output file RGI_out\n",
    "    RGI_out = f\"Assembly/metaspades_cooccurrence/{sample}_scaffolds_AMR_95_cutoff.csv\"\n",
    "    ARG_df = pd.read_csv(RGI_out, delimiter = \",\", index_col =0)\n",
    "    ARG_df = ARG_df.groupby(by = ['Best_Hit_ARO']).first()\n",
    "    #print(ARG_df.head())\n",
    "    ARG_df[f'{sample}'] = 1\n",
    "    ARG_GF = ARG_df.groupby(by = ['AMR Gene Family']).sum()[[f'{sample}']]\n",
    "    ARG_RM = ARG_df.groupby(by = ['Resistance Mechanism']).sum()[[f'{sample}']]\n",
    "    ARG_DC = ARG_df.groupby(by = ['Drug Class']).sum()[[f'{sample}']]\n",
    "    if DC_df is None:\n",
    "        DC_df = ARG_DC\n",
    "    else:\n",
    "        DC_df = DC_df.join(ARG_DC, how='outer')\n",
    "    \n",
    "    if GF_df is None:\n",
    "        GF_df = ARG_GF\n",
    "    else:\n",
    "        GF_df = GF_df.join(ARG_GF, how='outer')\n",
    "    \n",
    "    if RM_df is None:\n",
    "        RM_df = ARG_RM\n",
    "    else:\n",
    "        RM_df = RM_df.join(ARG_RM, how='outer')"
   ]
  },
  {
   "cell_type": "code",
   "execution_count": 10,
   "metadata": {},
   "outputs": [],
   "source": [
    "GF_df.to_csv('ARGs/contig-RGI/metaspades/All_sample_ARGs_count_95_cutoff_by_GF.csv')\n",
    "RM_df.to_csv('ARGs/contig-RGI/metaspades/All_sample_ARGs_count_95_cutoff_by_RM.csv')\n",
    "DC_df.to_csv('ARGs/contig-RGI/metaspades/All_sample_ARGs_count_95_cutoff_by_DC.csv')"
   ]
  },
  {
   "cell_type": "code",
   "execution_count": 13,
   "metadata": {},
   "outputs": [
    {
     "data": {
      "image/png": "[encoded data removed]",
      "text/plain": [
       "<Figure size 432x288 with 1 Axes>"
      ]
     },
     "metadata": {
      "needs_background": "light"
     },
     "output_type": "display_data"
    }
   ],
   "source": [
    "# Bar plot\n",
    "ax = RM_df.drop(columns=['raw_greywater_merged']).transpose().plot.bar(stacked = True)\n",
    "plt.xticks(rotation=30, horizontalalignment=\"right\")\n",
    "# reverse legend labels, set legend outside the plot.\n",
    "handles, labels = ax.get_legend_handles_labels()\n",
    "ax.legend(reversed(handles), reversed(labels),bbox_to_anchor=(1.02, 0.9), \n",
    "          title = \"Resistance Mechanism\")\n",
    "plt.ylabel(\"Number of ARGs\")\n",
    "# save the plot\n",
    "plt.savefig('ARGs/figures/RGI_main_ARG_numbers_by_RM_95cutoff.pdf',bbox_inches='tight')"
   ]
  },
  {
   "cell_type": "code",
   "execution_count": 4,
   "metadata": {},
   "outputs": [
    {
     "data": {
      "text/html": [
       "<div>\n",
       "<style scoped>\n",
       "    .dataframe tbody tr th:only-of-type {\n",
       "        vertical-align: middle;\n",
       "    }\n",
       "\n",
       "    .dataframe tbody tr th {\n",
       "        vertical-align: top;\n",
       "    }\n",
       "\n",
       "    .dataframe thead th {\n",
       "        text-align: right;\n",
       "    }\n",
       "</style>\n",
       "<table border=\"1\" class=\"dataframe\">\n",
       "  <thead>\n",
       "    <tr style=\"text-align: right;\">\n",
       "      <th></th>\n",
       "      <th>AMR Gene Family</th>\n",
       "      <th>Drug Class</th>\n",
       "      <th>Resistance Mechanism</th>\n",
       "      <th>house_1_raw</th>\n",
       "      <th>house_1_treat</th>\n",
       "      <th>house_2_raw</th>\n",
       "      <th>house_2_treat</th>\n",
       "      <th>house_3_raw</th>\n",
       "      <th>house_3_treat</th>\n",
       "      <th>house_4_raw</th>\n",
       "      <th>house_4_treat</th>\n",
       "      <th>house_5_raw</th>\n",
       "      <th>house_5_treat</th>\n",
       "    </tr>\n",
       "  </thead>\n",
       "  <tbody>\n",
       "    <tr>\n",
       "      <th>AER-1</th>\n",
       "      <td>AER beta-lactamase</td>\n",
       "      <td>penam</td>\n",
       "      <td>antibiotic inactivation</td>\n",
       "      <td>1.0</td>\n",
       "      <td>0.0</td>\n",
       "      <td>0.0</td>\n",
       "      <td>0.0</td>\n",
       "      <td>0.0</td>\n",
       "      <td>0.0</td>\n",
       "      <td>0.0</td>\n",
       "      <td>0.0</td>\n",
       "      <td>0.0</td>\n",
       "      <td>0.0</td>\n",
       "    </tr>\n",
       "    <tr>\n",
       "      <th>CRP</th>\n",
       "      <td>resistance-nodulation-cell division (RND) anti...</td>\n",
       "      <td>macrolide antibiotic; fluoroquinolone antibiot...</td>\n",
       "      <td>antibiotic efflux</td>\n",
       "      <td>1.0</td>\n",
       "      <td>0.0</td>\n",
       "      <td>0.0</td>\n",
       "      <td>0.0</td>\n",
       "      <td>0.0</td>\n",
       "      <td>0.0</td>\n",
       "      <td>0.0</td>\n",
       "      <td>0.0</td>\n",
       "      <td>0.0</td>\n",
       "      <td>0.0</td>\n",
       "    </tr>\n",
       "    <tr>\n",
       "      <th>CfxA2</th>\n",
       "      <td>CfxA beta-lactamase</td>\n",
       "      <td>cephamycin</td>\n",
       "      <td>antibiotic inactivation</td>\n",
       "      <td>1.0</td>\n",
       "      <td>0.0</td>\n",
       "      <td>0.0</td>\n",
       "      <td>0.0</td>\n",
       "      <td>1.0</td>\n",
       "      <td>0.0</td>\n",
       "      <td>0.0</td>\n",
       "      <td>0.0</td>\n",
       "      <td>0.0</td>\n",
       "      <td>0.0</td>\n",
       "    </tr>\n",
       "    <tr>\n",
       "      <th>EreA2</th>\n",
       "      <td>macrolide esterase</td>\n",
       "      <td>macrolide antibiotic</td>\n",
       "      <td>antibiotic inactivation</td>\n",
       "      <td>1.0</td>\n",
       "      <td>0.0</td>\n",
       "      <td>0.0</td>\n",
       "      <td>0.0</td>\n",
       "      <td>0.0</td>\n",
       "      <td>0.0</td>\n",
       "      <td>0.0</td>\n",
       "      <td>0.0</td>\n",
       "      <td>0.0</td>\n",
       "      <td>0.0</td>\n",
       "    </tr>\n",
       "    <tr>\n",
       "      <th>EreD</th>\n",
       "      <td>macrolide esterase</td>\n",
       "      <td>macrolide antibiotic</td>\n",
       "      <td>antibiotic inactivation</td>\n",
       "      <td>2.0</td>\n",
       "      <td>0.0</td>\n",
       "      <td>1.0</td>\n",
       "      <td>1.0</td>\n",
       "      <td>0.0</td>\n",
       "      <td>0.0</td>\n",
       "      <td>0.0</td>\n",
       "      <td>1.0</td>\n",
       "      <td>0.0</td>\n",
       "      <td>0.0</td>\n",
       "    </tr>\n",
       "  </tbody>\n",
       "</table>\n",
       "</div>"
      ],
      "text/plain": [
       "                                         AMR Gene Family  \\\n",
       "AER-1                                 AER beta-lactamase   \n",
       "CRP    resistance-nodulation-cell division (RND) anti...   \n",
       "CfxA2                                CfxA beta-lactamase   \n",
       "EreA2                                 macrolide esterase   \n",
       "EreD                                  macrolide esterase   \n",
       "\n",
       "                                              Drug Class  \\\n",
       "AER-1                                              penam   \n",
       "CRP    macrolide antibiotic; fluoroquinolone antibiot...   \n",
       "CfxA2                                         cephamycin   \n",
       "EreA2                               macrolide antibiotic   \n",
       "EreD                                macrolide antibiotic   \n",
       "\n",
       "          Resistance Mechanism  house_1_raw  house_1_treat  house_2_raw  \\\n",
       "AER-1  antibiotic inactivation          1.0            0.0          0.0   \n",
       "CRP          antibiotic efflux          1.0            0.0          0.0   \n",
       "CfxA2  antibiotic inactivation          1.0            0.0          0.0   \n",
       "EreA2  antibiotic inactivation          1.0            0.0          0.0   \n",
       "EreD   antibiotic inactivation          2.0            0.0          1.0   \n",
       "\n",
       "       house_2_treat  house_3_raw  house_3_treat  house_4_raw  house_4_treat  \\\n",
       "AER-1            0.0          0.0            0.0          0.0            0.0   \n",
       "CRP              0.0          0.0            0.0          0.0            0.0   \n",
       "CfxA2            0.0          1.0            0.0          0.0            0.0   \n",
       "EreA2            0.0          0.0            0.0          0.0            0.0   \n",
       "EreD             1.0          0.0            0.0          0.0            1.0   \n",
       "\n",
       "       house_5_raw  house_5_treat  \n",
       "AER-1          0.0            0.0  \n",
       "CRP            0.0            0.0  \n",
       "CfxA2          0.0            0.0  \n",
       "EreA2          0.0            0.0  \n",
       "EreD           0.0            0.0  "
      ]
     },
     "execution_count": 4,
     "metadata": {},
     "output_type": "execute_result"
    }
   ],
   "source": [
    "arg_counts = 'ARGs/contig-RGI/metaspades/ARO_count_summary_strict.csv'\n",
    "arg_summary = pd.read_csv(arg_counts, index_col = 0)\n",
    "arg_summary.head()"
   ]
  },
  {
   "cell_type": "code",
   "execution_count": 10,
   "metadata": {},
   "outputs": [
    {
     "data": {
      "text/plain": [
       "['house_1_raw',\n",
       " 'house_1_treat',\n",
       " 'house_2_raw',\n",
       " 'house_2_treat',\n",
       " 'house_3_raw',\n",
       " 'house_3_treat',\n",
       " 'house_4_raw',\n",
       " 'house_4_treat',\n",
       " 'house_5_raw',\n",
       " 'house_5_treat']"
      ]
     },
     "execution_count": 10,
     "metadata": {},
     "output_type": "execute_result"
    }
   ],
   "source": [
    "sample_id"
   ]
  },
  {
   "cell_type": "code",
   "execution_count": 12,
   "metadata": {},
   "outputs": [
    {
     "name": "stderr",
     "output_type": "stream",
     "text": [
      "/Users/shuaishuai/opt/anaconda3/lib/python3.7/site-packages/ipykernel_launcher.py:2: SettingWithCopyWarning: \n",
      "A value is trying to be set on a copy of a slice from a DataFrame\n",
      "\n",
      "See the caveats in the documentation: https://pandas.pydata.org/pandas-docs/stable/user_guide/indexing.html#returning-a-view-versus-a-copy\n",
      "  \n"
     ]
    },
    {
     "name": "stdout",
     "output_type": "stream",
     "text": [
      "(5, 10)\n"
     ]
    },
    {
     "data": {
      "image/png": "[encoded data removed]",
      "text/plain": [
       "<Figure size 432x288 with 1 Axes>"
      ]
     },
     "metadata": {
      "needs_background": "light"
     },
     "output_type": "display_data"
    }
   ],
   "source": [
    "for sample in sample_id:\n",
    "    arg_summary[sample][arg_summary[sample] != 0] = 1\n",
    "\n",
    "RM_summary = arg_summary.groupby(by = 'Resistance Mechanism').sum()\n",
    "print(RM_summary.shape)\n",
    "\n",
    "plt.rcParams['figure.figsize'] = [6, 4]\n",
    "ax = RM_summary.transpose().plot.bar(stacked = True)\n",
    "plt.xticks(rotation=30, horizontalalignment=\"right\")\n",
    "# reverse legend labels, set legend outside the plot.\n",
    "handles, labels = ax.get_legend_handles_labels()\n",
    "ax.legend(bbox_to_anchor=(1.02, 0.9), \n",
    "          title = \"Resistance Mechanism\")\n",
    "plt.ylabel(\"Number of ARGs\")\n",
    "# save the plot\n",
    "plt.savefig('ARGs/figures/RGI_main_ARG_numbers_by_RM_strict.pdf',bbox_inches='tight')"
   ]
  },
  {
   "cell_type": "code",
   "execution_count": null,
   "metadata": {},
   "outputs": [],
   "source": []
  }
 ],
 "metadata": {
  "kernelspec": {
   "display_name": "Python 3",
   "language": "python",
   "name": "python3"
  },
  "language_info": {
   "codemirror_mode": {
    "name": "ipython",
    "version": 3
   },
   "file_extension": ".py",
   "mimetype": "text/x-python",
   "name": "python",
   "nbconvert_exporter": "python",
   "pygments_lexer": "ipython3",
   "version": "3.7.11"
  }
 },
 "nbformat": 4,
 "nbformat_minor": 4
}
